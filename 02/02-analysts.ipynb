{
 "cells": [
  {
   "cell_type": "markdown",
   "metadata": {},
   "source": [
    "**Fin 585R**  \n",
    "**Diether**  \n",
    "**Problem Set**  \n",
    "**Intro to Python/Pandas**  \n",
    "\n",
    "**Overview**\n",
    "\n",
    "This problem set is designed to introduce you to using Python for empirical analysis. You can discuss this problem set and get coding help from other students in the class. But you must prepare your own answers. This assignment will be graded based on effort. Do your best, don’t worry if you can’t answer all the questions. We will discuss the problem set in class. You may find [Pandas Documentation](http://pandas.pydata.org/) useful.\n",
    "\n",
    "*Please submit you Jupyter notebook to Learning Suite before class.*\n",
    "\n",
    "\n",
    "**Learning Objectives**\n",
    "\n",
    "The goal of this homework is to give you practice with some of the core concepts I highlighted in the introduction:\n",
    "\n",
    "+ Getting data into a dataframe and working with this core data structure. For example, hopefully you take advantage of a dataframe's built in functions (methods) to answer some of the questions.<br>\n",
    "\n",
    "+ Printing out data using various methods.<br>\n",
    "\n",
    "+ Selecting data and creating variaables using if/then/else logic.<br>\n",
    "\n",
    "+ Your first use of the groupby/apply pandas programming framework.<br>\n",
    "\n",
    "\n",
    "**Data Analysis with Python/Pandas**\n",
    "\n",
    "You can download the data for the problem set here: [Monthly Stock Return and Analyst Data](http://diether.org/prephd/02-mstk_analysts.csv). There is also a link to the data on the schedule page of *Learning Suite*. The data are monthly observations for all stocks listed in the United States during 2020 The data contain the following variables:\n",
    "\n",
    "|Variable | Description                                              |\n",
    "|---------|----------------------------------------------------------|\n",
    "|permno   | stock identifier                                         |\n",
    "|caldt    | calendar date                                            |\n",
    "|ticker   | another stock identifier                                 |\n",
    "|ret      | monthly return                                           |\n",
    "|prc      | stock price                                              |   \n",
    "|me       | market value of equity (in millions)                     |\n",
    "|analysts | number of analysts covering the stock                    |\n",
    "\n",
    "\n",
    "**Tasks and Questions**\n",
    "\n",
    "1. Print out the first 10 observations of the data.<br>\n",
    "\n",
    "2. Create a new column in the dataframe the contains the natural log of (1 + analysts).<br>\n",
    "\n",
    "3. During June of 2020, what is the price of Hormel's stock? Note, the ticker symbol for Hormel is HRL.<br>\n",
    "\n",
    "4. What is the average number of analysts covering Tesla during 2023? Note, the ticker symbol for Tesla is TSLA.<br>\n",
    "\n",
    "5. Creat a new column in the dataframe that is True if the number of analysts is greater than 10 and False otherwise. <br>\n",
    "\n",
    "6. Harder questions: questions 6-8 increase the difficulty. Do your best. Hint, use the `groupby` command. Compute the number of stocks in the dataframe by month.<br>\n",
    "\n",
    "8. Compute the aggregate market-cap of all stocks in the dataframe by month.<br>\n",
    "\n",
    "9. Create a new dataframe (call it sub) that contains all the observations of Google (ticker=GOOG) and Microsoft (MSFT).<br>"
   ]
  },
  {
   "cell_type": "code",
   "execution_count": 1,
   "metadata": {},
   "outputs": [],
   "source": [
    "import numpy as np\n",
    "import pandas as pd"
   ]
  },
  {
   "cell_type": "code",
   "execution_count": 2,
   "metadata": {},
   "outputs": [],
   "source": [
    "df = pd.read_csv('http://diether.org/prephd/02-mstk_analysts.csv',parse_dates=['caldt'])"
   ]
  },
  {
   "cell_type": "code",
   "execution_count": 3,
   "metadata": {},
   "outputs": [
    {
     "data": {
      "text/html": [
       "<div>\n",
       "<style scoped>\n",
       "    .dataframe tbody tr th:only-of-type {\n",
       "        vertical-align: middle;\n",
       "    }\n",
       "\n",
       "    .dataframe tbody tr th {\n",
       "        vertical-align: top;\n",
       "    }\n",
       "\n",
       "    .dataframe thead th {\n",
       "        text-align: right;\n",
       "    }\n",
       "</style>\n",
       "<table border=\"1\" class=\"dataframe\">\n",
       "  <thead>\n",
       "    <tr style=\"text-align: right;\">\n",
       "      <th></th>\n",
       "      <th>permno</th>\n",
       "      <th>caldt</th>\n",
       "      <th>ticker</th>\n",
       "      <th>prc</th>\n",
       "      <th>ret</th>\n",
       "      <th>me</th>\n",
       "      <th>analysts</th>\n",
       "    </tr>\n",
       "  </thead>\n",
       "  <tbody>\n",
       "    <tr>\n",
       "      <th>0</th>\n",
       "      <td>10026</td>\n",
       "      <td>2020-01-31</td>\n",
       "      <td>JJSF</td>\n",
       "      <td>165.84000</td>\n",
       "      <td>-0.100016</td>\n",
       "      <td>3137.526960</td>\n",
       "      <td>3.0</td>\n",
       "    </tr>\n",
       "    <tr>\n",
       "      <th>1</th>\n",
       "      <td>10026</td>\n",
       "      <td>2020-02-28</td>\n",
       "      <td>JJSF</td>\n",
       "      <td>160.82001</td>\n",
       "      <td>-0.030270</td>\n",
       "      <td>3042.553769</td>\n",
       "      <td>2.0</td>\n",
       "    </tr>\n",
       "    <tr>\n",
       "      <th>2</th>\n",
       "      <td>10026</td>\n",
       "      <td>2020-03-31</td>\n",
       "      <td>JJSF</td>\n",
       "      <td>121.00000</td>\n",
       "      <td>-0.244031</td>\n",
       "      <td>2285.448000</td>\n",
       "      <td>2.0</td>\n",
       "    </tr>\n",
       "    <tr>\n",
       "      <th>3</th>\n",
       "      <td>10026</td>\n",
       "      <td>2020-04-30</td>\n",
       "      <td>JJSF</td>\n",
       "      <td>127.03000</td>\n",
       "      <td>0.049835</td>\n",
       "      <td>2399.342640</td>\n",
       "      <td>2.0</td>\n",
       "    </tr>\n",
       "    <tr>\n",
       "      <th>4</th>\n",
       "      <td>10026</td>\n",
       "      <td>2020-05-29</td>\n",
       "      <td>JJSF</td>\n",
       "      <td>128.63000</td>\n",
       "      <td>0.012596</td>\n",
       "      <td>2429.563440</td>\n",
       "      <td>2.0</td>\n",
       "    </tr>\n",
       "    <tr>\n",
       "      <th>5</th>\n",
       "      <td>10026</td>\n",
       "      <td>2020-06-30</td>\n",
       "      <td>JJSF</td>\n",
       "      <td>127.13000</td>\n",
       "      <td>-0.007191</td>\n",
       "      <td>2401.231440</td>\n",
       "      <td>2.0</td>\n",
       "    </tr>\n",
       "    <tr>\n",
       "      <th>6</th>\n",
       "      <td>10026</td>\n",
       "      <td>2020-07-31</td>\n",
       "      <td>JJSF</td>\n",
       "      <td>123.13000</td>\n",
       "      <td>-0.031464</td>\n",
       "      <td>2326.541350</td>\n",
       "      <td>3.0</td>\n",
       "    </tr>\n",
       "    <tr>\n",
       "      <th>7</th>\n",
       "      <td>10026</td>\n",
       "      <td>2020-08-31</td>\n",
       "      <td>JJSF</td>\n",
       "      <td>135.95000</td>\n",
       "      <td>0.104118</td>\n",
       "      <td>2568.775250</td>\n",
       "      <td>3.0</td>\n",
       "    </tr>\n",
       "    <tr>\n",
       "      <th>8</th>\n",
       "      <td>10026</td>\n",
       "      <td>2020-09-30</td>\n",
       "      <td>JJSF</td>\n",
       "      <td>130.39000</td>\n",
       "      <td>-0.036668</td>\n",
       "      <td>2466.326850</td>\n",
       "      <td>3.0</td>\n",
       "    </tr>\n",
       "    <tr>\n",
       "      <th>9</th>\n",
       "      <td>10026</td>\n",
       "      <td>2020-10-30</td>\n",
       "      <td>JJSF</td>\n",
       "      <td>135.57001</td>\n",
       "      <td>0.039727</td>\n",
       "      <td>2564.306739</td>\n",
       "      <td>2.0</td>\n",
       "    </tr>\n",
       "  </tbody>\n",
       "</table>\n",
       "</div>"
      ],
      "text/plain": [
       "   permno      caldt ticker        prc       ret           me  analysts\n",
       "0   10026 2020-01-31   JJSF  165.84000 -0.100016  3137.526960       3.0\n",
       "1   10026 2020-02-28   JJSF  160.82001 -0.030270  3042.553769       2.0\n",
       "2   10026 2020-03-31   JJSF  121.00000 -0.244031  2285.448000       2.0\n",
       "3   10026 2020-04-30   JJSF  127.03000  0.049835  2399.342640       2.0\n",
       "4   10026 2020-05-29   JJSF  128.63000  0.012596  2429.563440       2.0\n",
       "5   10026 2020-06-30   JJSF  127.13000 -0.007191  2401.231440       2.0\n",
       "6   10026 2020-07-31   JJSF  123.13000 -0.031464  2326.541350       3.0\n",
       "7   10026 2020-08-31   JJSF  135.95000  0.104118  2568.775250       3.0\n",
       "8   10026 2020-09-30   JJSF  130.39000 -0.036668  2466.326850       3.0\n",
       "9   10026 2020-10-30   JJSF  135.57001  0.039727  2564.306739       2.0"
      ]
     },
     "execution_count": 3,
     "metadata": {},
     "output_type": "execute_result"
    }
   ],
   "source": [
    "# 1\n",
    "df.head(10)"
   ]
  },
  {
   "cell_type": "code",
   "execution_count": 4,
   "metadata": {},
   "outputs": [],
   "source": [
    "# 2\n",
    "df[\"logalyst\"] = np.log(1 + df[\"analysts\"])"
   ]
  },
  {
   "cell_type": "code",
   "execution_count": 5,
   "metadata": {},
   "outputs": [
    {
     "data": {
      "text/plain": [
       "114212    48.27\n",
       "Name: prc, dtype: float64"
      ]
     },
     "execution_count": 5,
     "metadata": {},
     "output_type": "execute_result"
    }
   ],
   "source": [
    "# 3\n",
    "result = df.loc[(df[\"caldt\"] == \"2020-06-30\") & (df[\"ticker\"] == \"HRL\"), \"prc\"]\n",
    "result\n",
    "# During June of 2020, the price of Hormel's stock is $48.27"
   ]
  },
  {
   "cell_type": "code",
   "execution_count": 6,
   "metadata": {},
   "outputs": [
    {
     "data": {
      "text/plain": [
       "np.float64(32.083333333333336)"
      ]
     },
     "execution_count": 6,
     "metadata": {},
     "output_type": "execute_result"
    }
   ],
   "source": [
    "# 4\n",
    "df.loc[(df[\"ticker\"] == \"TSLA\") & (df[\"caldt\"].dt.year == 2023), \"analysts\"].mean()\n",
    "# The average number of analysts covering Tesla during 2023 is 32.0833"
   ]
  },
  {
   "cell_type": "code",
   "execution_count": 7,
   "metadata": {},
   "outputs": [],
   "source": [
    "# 5\n",
    "df[\"over_ten\"] = (df[\"analysts\"] > 10)"
   ]
  },
  {
   "cell_type": "code",
   "execution_count": 8,
   "metadata": {},
   "outputs": [
    {
     "data": {
      "text/plain": [
       "caldt\n",
       "2020-01-31    3591\n",
       "2020-02-28    3593\n",
       "2020-03-31    3586\n",
       "2020-04-30    3580\n",
       "2020-05-29    3575\n",
       "2020-06-30    3580\n",
       "2020-07-31    3587\n",
       "2020-08-31    3600\n",
       "2020-09-30    3629\n",
       "2020-10-30    3669\n",
       "2020-11-30    3702\n",
       "2020-12-31    3738\n",
       "2021-01-29    3775\n",
       "2021-02-26    3829\n",
       "2021-03-31    3925\n",
       "2021-04-30    4005\n",
       "2021-05-28    4055\n",
       "2021-06-30    4103\n",
       "2021-07-30    4170\n",
       "2021-08-31    4205\n",
       "2021-09-30    4246\n",
       "2021-10-29    4289\n",
       "2021-11-30    4333\n",
       "2021-12-31    4375\n",
       "2022-01-31    4405\n",
       "2022-02-28    4423\n",
       "2022-03-31    4432\n",
       "2022-04-29    4442\n",
       "2022-05-31    4439\n",
       "2022-06-30    4433\n",
       "2022-07-29    4423\n",
       "2022-08-31    4429\n",
       "2022-09-30    4428\n",
       "2022-10-31    4405\n",
       "2022-11-30    4393\n",
       "2022-12-30    4303\n",
       "2023-01-31    4285\n",
       "2023-02-28    4261\n",
       "2023-03-31    4226\n",
       "2023-04-28    4212\n",
       "2023-05-31    4193\n",
       "2023-06-30    4179\n",
       "2023-07-31    4160\n",
       "2023-08-31    4137\n",
       "2023-09-29    4123\n",
       "2023-10-31    4099\n",
       "2023-11-30    4073\n",
       "2023-12-29    4032\n",
       "Name: permno, dtype: int64"
      ]
     },
     "execution_count": 8,
     "metadata": {},
     "output_type": "execute_result"
    }
   ],
   "source": [
    "# 6\n",
    "df.groupby('caldt')['permno'].count()"
   ]
  },
  {
   "cell_type": "code",
   "execution_count": 9,
   "metadata": {},
   "outputs": [
    {
     "data": {
      "text/plain": [
       "caldt\n",
       "2020-01-31    31546840.0\n",
       "2020-02-28    28942830.4\n",
       "2020-03-31    25035509.8\n",
       "2020-04-30    28395941.3\n",
       "2020-05-29    29962357.1\n",
       "2020-06-30    30732608.6\n",
       "2020-07-31    32550922.1\n",
       "2020-08-31    35034063.1\n",
       "2020-09-30    33820768.1\n",
       "2020-10-30    33118043.4\n",
       "2020-11-30    37265860.4\n",
       "2020-12-31    39106760.9\n",
       "2021-01-29    39134094.6\n",
       "2021-02-26    40280788.6\n",
       "2021-03-31    41749097.8\n",
       "2021-04-30    43949648.2\n",
       "2021-05-28    44088099.8\n",
       "2021-06-30    45396487.8\n",
       "2021-07-30    46011290.5\n",
       "2021-08-31    47317989.4\n",
       "2021-09-30    45319502.4\n",
       "2021-10-29    48322694.8\n",
       "2021-11-30    47610630.4\n",
       "2021-12-31    49045659.6\n",
       "2022-01-31    45941177.7\n",
       "2022-02-28    44864229.5\n",
       "2022-03-31    46081346.3\n",
       "2022-04-29    41670422.5\n",
       "2022-05-31    41429909.4\n",
       "2022-06-30    37835309.0\n",
       "2022-07-29    41375996.3\n",
       "2022-08-31    39769723.5\n",
       "2022-09-30    36042673.6\n",
       "2022-10-31    38796660.3\n",
       "2022-11-30    40529331.2\n",
       "2022-12-30    37954431.4\n",
       "2023-01-31    40557220.0\n",
       "2023-02-28    39499713.6\n",
       "2023-03-31    40471186.1\n",
       "2023-04-28    40800718.2\n",
       "2023-05-31    41022337.4\n",
       "2023-06-30    43760681.8\n",
       "2023-07-31    45291539.5\n",
       "2023-08-31    44247503.6\n",
       "2023-09-29    42062374.1\n",
       "2023-10-31    40763456.6\n",
       "2023-11-30    44413230.5\n",
       "2023-12-29    46638612.0\n",
       "Name: me, dtype: float64"
      ]
     },
     "execution_count": 9,
     "metadata": {},
     "output_type": "execute_result"
    }
   ],
   "source": [
    "# 8 mkcap is in millions\n",
    "df.groupby('caldt')['me'].sum().round(1)"
   ]
  },
  {
   "cell_type": "code",
   "execution_count": 10,
   "metadata": {},
   "outputs": [],
   "source": [
    "# 9 Create a new dataframe (call it sub) that contains all the observations of Google (ticker=GOOG) and Microsoft (MSFT)\n",
    "sub = df.loc[(df['ticker'] == \"GOOG\") | (df['ticker'] == \"MSFT\")]"
   ]
  }
 ],
 "metadata": {
  "kernelspec": {
   "display_name": ".venv",
   "language": "python",
   "name": "python3"
  },
  "language_info": {
   "codemirror_mode": {
    "name": "ipython",
    "version": 3
   },
   "file_extension": ".py",
   "mimetype": "text/x-python",
   "name": "python",
   "nbconvert_exporter": "python",
   "pygments_lexer": "ipython3",
   "version": "3.10.12"
  }
 },
 "nbformat": 4,
 "nbformat_minor": 4
}
