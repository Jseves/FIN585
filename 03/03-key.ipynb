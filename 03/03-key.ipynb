{
 "cells": [
  {
   "cell_type": "markdown",
   "id": "23a5c90e",
   "metadata": {
    "cell_marker": "r\"\"\"",
    "collapsed": false,
    "jupyter": {
     "outputs_hidden": false
    }
   },
   "source": [
    "**Fin 585**  \n",
    "**Diether**  \n",
    "**Problem Set**  \n",
    "**Introduction to Portfolios**  c\n",
    "**Application: Short Selling**\n",
    "\n",
    "**Overview**\n",
    "\n",
    "This problem set is introduces you to portfolio construction using a real portfolio application from the Finance literature. This assignment builds on the concepts and code I introduced last time in class. I think you'll find the Intro to Portfolios' Jupyter notebook helpful for this assignment.\n",
    "\n",
    "\n",
    "**Short Selling Background**\n",
    "\n",
    "When someone shorts a stock, they profit if the price of the stock goes down instead of going up, but short-selling transactions are more complicated than going long (buying a stock and then later selling it).  There are four basic steps to short selling:\n",
    "\n",
    "1. *The short seller borrows the desired number of shares from someone.* This is usually done by the broker who locates the shares and the broker becomes the middleman for the short seller and the lender (note, the broker is often both the middleman and the lender). The lender expects to be paid interest on the loan which is the main cost of shorting. The loan is callable by the lender at any time. The short seller can repay the loan at any time. \n",
    "\n",
    "2. *The short seller sells the shares.* The proceeds are put into an interest-bearing account called the collateral account. Most lenders require the collateral account to contain 102% of the value of the proceeds.  The collateral account usually invests in low risk, short term securities (e.g., Treasury bills). When the short seller borrows the stock there are lending fees; the short seller pays interest on the loan. Typically, the interest rate is small. The overall interest rate earned on the collateral account is split between the lender and the short seller. The portion of the interest rate received by the short seller is called the rebate rate. The **loan fee** is the portion paid the lender, and is equivalent to the interest rate the short seller pays on the loan. Therefore, the **loan fee** is the main direct cost of shorting. There can be a zero or negative rebate rate; a negative rebate rate corresponds to a situation where the lender receives all the interest in the collateral account and the short sellers pays additional interest out of her pocket to the lender.\n",
    "\n",
    "3. *Pay any dividends while the loan is open.* The short seller must pay to the lender the cash equivalent of any dividends paid out on the stock. If you short Apple, and Apple pays a 2 dollar dividend per share during the time you short the stock, then you owe the lender 2 dollars for every share you shorted.\n",
    "\n",
    "4. *Buy the shares back.* The short sellers profits are the following:\n",
    "$$\n",
    "Profit = Sell - Buy -(Interest \\ Paid)\n",
    "$$ \n",
    "  \n",
    "The Finance literature has been interested in whether short sellers have good information. Do short sellers typically make money when the short? If loan fees are high, then short sellers are paying a high price to short (bet that the stock will perform poorly). Therefore, if short sellers are paying a lot to short, it likely represents times when short sellers have good information. \n",
    "\n",
    "In this problem set you create portfolios based on lagged loan fee to test the preceding hypothesis. Remember, the returns in the data are from going long (buying and then selling the stock). Your portfolios will reflect that fact. If the returns are really low or negative for a portfolio, then that means the short sellers are experiencing high returns.\n",
    "\n",
    "\n",
    "**Data**\n",
    "\n",
    "The data are monthly stock data for all stocks in the U.S. with non-missing loan fee data. The basic unit of observation is the stock month. You can download the data directly using the following link: [the data](https://diether.org/prephd/03-mstk_short_02-12.csv). There is also a link on *Learning Suite*. The data contain the following variables:\n",
    "\n",
    "|Variable | Description                                       |\n",
    "|---------|---------------------------------------------------|\n",
    "|permno   | stock identifier                                  |\n",
    "|caldt    | calendar date                                     |\n",
    "|ret      | monthly return                                    |\n",
    "|prclag   | stock price, lagged                               |   \n",
    "|melag    | market equity, lagged                             |\n",
    "|feelag   | the loan fee expressed a percent per anum, lagged |\n",
    "\n",
    "\n",
    "**Tasks and Questions**  \n",
    "\n",
    "1. What is the sample period of this data?\n",
    "\n",
    "2. There are some observations where `feelag` is less than zero. These are data errors. Remove these observation from the dataframe and then compute the summary statistics for `feelag`.\n",
    "\n",
    "3. Output the median and 90th percentile of `feelag` for every month. This can be done in seperate commands. \n",
    "\n",
    "4. Construct three equal-weight portfolios using `feelag` a the criterion variable. Portfolio 0: an equal-weight portfolio the includes all stocks with `feelag` less than or equal to 3% (loan fee are express as the interest rate per anum). Portfolio 1: an equal-weight portfolio the includes all stocks with `feelag` greater than 3% and less than or eqal to 5%. Portfolio 2: an equal-weight portfolio the includes stocks with `feelag` greater than 5% (loan fee are express as the interest rate per anum). Hint: use the pd.cut to bin the data and use my Jupyter notebook from last class as a guide.\n",
    "\n",
    "5. Compute summary statistics for each of the portfolios you created including the mean, standard deviation, and t-statistics testing of the mean return of the portfolio is zero.\n",
    "\n",
    "5. Are your results consistent with the hypothesis that short sellers have good information?"
   ]
  },
  {
   "cell_type": "code",
   "execution_count": 1,
   "id": "99a3e99e",
   "metadata": {
    "collapsed": false,
    "jupyter": {
     "outputs_hidden": false
    }
   },
   "outputs": [],
   "source": [
    "import pandas as pd\n",
    "import numpy as np"
   ]
  },
  {
   "cell_type": "code",
   "execution_count": 2,
   "id": "3f2e4981",
   "metadata": {
    "collapsed": false,
    "jupyter": {
     "outputs_hidden": false
    }
   },
   "outputs": [
    {
     "data": {
      "text/html": [
       "<div>\n",
       "<style scoped>\n",
       "    .dataframe tbody tr th:only-of-type {\n",
       "        vertical-align: middle;\n",
       "    }\n",
       "\n",
       "    .dataframe tbody tr th {\n",
       "        vertical-align: top;\n",
       "    }\n",
       "\n",
       "    .dataframe thead th {\n",
       "        text-align: right;\n",
       "    }\n",
       "</style>\n",
       "<table border=\"1\" class=\"dataframe\">\n",
       "  <thead>\n",
       "    <tr style=\"text-align: right;\">\n",
       "      <th></th>\n",
       "      <th>permno</th>\n",
       "      <th>caldt</th>\n",
       "      <th>ret</th>\n",
       "      <th>prclag</th>\n",
       "      <th>melag</th>\n",
       "      <th>feelag</th>\n",
       "    </tr>\n",
       "  </thead>\n",
       "  <tbody>\n",
       "    <tr>\n",
       "      <th>0</th>\n",
       "      <td>10001</td>\n",
       "      <td>2005-06-30</td>\n",
       "      <td>0.128430</td>\n",
       "      <td>8.02</td>\n",
       "      <td>21.053</td>\n",
       "      <td>0.15000</td>\n",
       "    </tr>\n",
       "    <tr>\n",
       "      <th>1</th>\n",
       "      <td>10001</td>\n",
       "      <td>2005-07-29</td>\n",
       "      <td>0.009945</td>\n",
       "      <td>9.05</td>\n",
       "      <td>26.363</td>\n",
       "      <td>0.32701</td>\n",
       "    </tr>\n",
       "    <tr>\n",
       "      <th>2</th>\n",
       "      <td>10001</td>\n",
       "      <td>2005-08-31</td>\n",
       "      <td>0.039387</td>\n",
       "      <td>9.14</td>\n",
       "      <td>26.625</td>\n",
       "      <td>0.15000</td>\n",
       "    </tr>\n",
       "    <tr>\n",
       "      <th>3</th>\n",
       "      <td>10001</td>\n",
       "      <td>2005-10-31</td>\n",
       "      <td>-0.119040</td>\n",
       "      <td>11.51</td>\n",
       "      <td>33.529</td>\n",
       "      <td>0.16250</td>\n",
       "    </tr>\n",
       "    <tr>\n",
       "      <th>4</th>\n",
       "      <td>10001</td>\n",
       "      <td>2005-11-30</td>\n",
       "      <td>-0.059397</td>\n",
       "      <td>10.10</td>\n",
       "      <td>29.421</td>\n",
       "      <td>0.15000</td>\n",
       "    </tr>\n",
       "    <tr>\n",
       "      <th>...</th>\n",
       "      <td>...</td>\n",
       "      <td>...</td>\n",
       "      <td>...</td>\n",
       "      <td>...</td>\n",
       "      <td>...</td>\n",
       "      <td>...</td>\n",
       "    </tr>\n",
       "    <tr>\n",
       "      <th>437770</th>\n",
       "      <td>93436</td>\n",
       "      <td>2012-03-30</td>\n",
       "      <td>0.114640</td>\n",
       "      <td>33.41</td>\n",
       "      <td>3494.800</td>\n",
       "      <td>13.73900</td>\n",
       "    </tr>\n",
       "    <tr>\n",
       "      <th>437771</th>\n",
       "      <td>93436</td>\n",
       "      <td>2012-04-30</td>\n",
       "      <td>-0.110370</td>\n",
       "      <td>37.24</td>\n",
       "      <td>3916.300</td>\n",
       "      <td>18.09700</td>\n",
       "    </tr>\n",
       "    <tr>\n",
       "      <th>437772</th>\n",
       "      <td>93436</td>\n",
       "      <td>2012-05-31</td>\n",
       "      <td>-0.109570</td>\n",
       "      <td>33.13</td>\n",
       "      <td>3485.700</td>\n",
       "      <td>13.02700</td>\n",
       "    </tr>\n",
       "    <tr>\n",
       "      <th>437773</th>\n",
       "      <td>93436</td>\n",
       "      <td>2012-06-29</td>\n",
       "      <td>0.060678</td>\n",
       "      <td>29.50</td>\n",
       "      <td>3103.800</td>\n",
       "      <td>10.79800</td>\n",
       "    </tr>\n",
       "    <tr>\n",
       "      <th>437774</th>\n",
       "      <td>93436</td>\n",
       "      <td>2012-07-31</td>\n",
       "      <td>-0.123680</td>\n",
       "      <td>31.29</td>\n",
       "      <td>3295.600</td>\n",
       "      <td>10.87400</td>\n",
       "    </tr>\n",
       "  </tbody>\n",
       "</table>\n",
       "<p>437775 rows × 6 columns</p>\n",
       "</div>"
      ],
      "text/plain": [
       "        permno      caldt       ret  prclag     melag    feelag\n",
       "0        10001 2005-06-30  0.128430    8.02    21.053   0.15000\n",
       "1        10001 2005-07-29  0.009945    9.05    26.363   0.32701\n",
       "2        10001 2005-08-31  0.039387    9.14    26.625   0.15000\n",
       "3        10001 2005-10-31 -0.119040   11.51    33.529   0.16250\n",
       "4        10001 2005-11-30 -0.059397   10.10    29.421   0.15000\n",
       "...        ...        ...       ...     ...       ...       ...\n",
       "437770   93436 2012-03-30  0.114640   33.41  3494.800  13.73900\n",
       "437771   93436 2012-04-30 -0.110370   37.24  3916.300  18.09700\n",
       "437772   93436 2012-05-31 -0.109570   33.13  3485.700  13.02700\n",
       "437773   93436 2012-06-29  0.060678   29.50  3103.800  10.79800\n",
       "437774   93436 2012-07-31 -0.123680   31.29  3295.600  10.87400\n",
       "\n",
       "[437775 rows x 6 columns]"
      ]
     },
     "execution_count": 2,
     "metadata": {},
     "output_type": "execute_result"
    }
   ],
   "source": [
    "df = pd.read_csv(\"03-mstk_short_02-12.csv\",parse_dates=['caldt'])\n",
    "df"
   ]
  },
  {
   "cell_type": "markdown",
   "id": "8a362e9f",
   "metadata": {
    "cell_marker": "\"\"\"",
    "collapsed": false,
    "jupyter": {
     "outputs_hidden": false
    }
   },
   "source": [
    "**Q1.** sample period of this data"
   ]
  },
  {
   "cell_type": "code",
   "execution_count": 3,
   "id": "d21b348f",
   "metadata": {
    "collapsed": false,
    "jupyter": {
     "outputs_hidden": false
    }
   },
   "outputs": [
    {
     "data": {
      "text/plain": [
       "Timestamp('2002-06-28 00:00:00')"
      ]
     },
     "execution_count": 3,
     "metadata": {},
     "output_type": "execute_result"
    }
   ],
   "source": [
    "df['caldt'].min()"
   ]
  },
  {
   "cell_type": "code",
   "execution_count": 4,
   "id": "c8c2b892",
   "metadata": {
    "collapsed": false,
    "jupyter": {
     "outputs_hidden": false
    }
   },
   "outputs": [
    {
     "data": {
      "text/plain": [
       "Timestamp('2012-07-31 00:00:00')"
      ]
     },
     "execution_count": 4,
     "metadata": {},
     "output_type": "execute_result"
    }
   ],
   "source": [
    "df['caldt'].max()"
   ]
  },
  {
   "cell_type": "code",
   "execution_count": 5,
   "id": "8ac147d9",
   "metadata": {
    "collapsed": false,
    "jupyter": {
     "outputs_hidden": false
    }
   },
   "outputs": [
    {
     "data": {
      "text/plain": [
       "min    2002-06-28 00:00:00\n",
       "max    2012-07-31 00:00:00\n",
       "Name: caldt, dtype: object"
      ]
     },
     "execution_count": 5,
     "metadata": {},
     "output_type": "execute_result"
    }
   ],
   "source": [
    "df['caldt'].describe()[['min','max']]"
   ]
  },
  {
   "cell_type": "markdown",
   "id": "7311003b",
   "metadata": {
    "cell_marker": "\"\"\"",
    "collapsed": false,
    "jupyter": {
     "outputs_hidden": false
    }
   },
   "source": [
    "**Q2.** Remove observation where feelag < 0"
   ]
  },
  {
   "cell_type": "code",
   "execution_count": 6,
   "id": "ad60f18b",
   "metadata": {
    "collapsed": false,
    "jupyter": {
     "outputs_hidden": false
    }
   },
   "outputs": [
    {
     "data": {
      "text/plain": [
       "count    437775.0000\n",
       "mean          0.9837\n",
       "std           3.6919\n",
       "min          -4.8500\n",
       "25%           0.0875\n",
       "50%           0.1484\n",
       "75%           0.3224\n",
       "max          98.1800\n",
       "Name: feelag, dtype: float64"
      ]
     },
     "execution_count": 6,
     "metadata": {},
     "output_type": "execute_result"
    }
   ],
   "source": [
    "df['feelag'].describe().round(4)"
   ]
  },
  {
   "cell_type": "code",
   "execution_count": 7,
   "id": "fb0df28f",
   "metadata": {
    "collapsed": false,
    "jupyter": {
     "outputs_hidden": false
    }
   },
   "outputs": [
    {
     "data": {
      "text/html": [
       "<div>\n",
       "<style scoped>\n",
       "    .dataframe tbody tr th:only-of-type {\n",
       "        vertical-align: middle;\n",
       "    }\n",
       "\n",
       "    .dataframe tbody tr th {\n",
       "        vertical-align: top;\n",
       "    }\n",
       "\n",
       "    .dataframe thead th {\n",
       "        text-align: right;\n",
       "    }\n",
       "</style>\n",
       "<table border=\"1\" class=\"dataframe\">\n",
       "  <thead>\n",
       "    <tr style=\"text-align: right;\">\n",
       "      <th></th>\n",
       "      <th>permno</th>\n",
       "      <th>caldt</th>\n",
       "      <th>ret</th>\n",
       "      <th>prclag</th>\n",
       "      <th>melag</th>\n",
       "      <th>feelag</th>\n",
       "    </tr>\n",
       "  </thead>\n",
       "  <tbody>\n",
       "    <tr>\n",
       "      <th>0</th>\n",
       "      <td>10001</td>\n",
       "      <td>2005-06-30</td>\n",
       "      <td>0.128430</td>\n",
       "      <td>8.02</td>\n",
       "      <td>21.053</td>\n",
       "      <td>0.15000</td>\n",
       "    </tr>\n",
       "    <tr>\n",
       "      <th>1</th>\n",
       "      <td>10001</td>\n",
       "      <td>2005-07-29</td>\n",
       "      <td>0.009945</td>\n",
       "      <td>9.05</td>\n",
       "      <td>26.363</td>\n",
       "      <td>0.32701</td>\n",
       "    </tr>\n",
       "    <tr>\n",
       "      <th>2</th>\n",
       "      <td>10001</td>\n",
       "      <td>2005-08-31</td>\n",
       "      <td>0.039387</td>\n",
       "      <td>9.14</td>\n",
       "      <td>26.625</td>\n",
       "      <td>0.15000</td>\n",
       "    </tr>\n",
       "    <tr>\n",
       "      <th>3</th>\n",
       "      <td>10001</td>\n",
       "      <td>2005-10-31</td>\n",
       "      <td>-0.119040</td>\n",
       "      <td>11.51</td>\n",
       "      <td>33.529</td>\n",
       "      <td>0.16250</td>\n",
       "    </tr>\n",
       "    <tr>\n",
       "      <th>4</th>\n",
       "      <td>10001</td>\n",
       "      <td>2005-11-30</td>\n",
       "      <td>-0.059397</td>\n",
       "      <td>10.10</td>\n",
       "      <td>29.421</td>\n",
       "      <td>0.15000</td>\n",
       "    </tr>\n",
       "    <tr>\n",
       "      <th>...</th>\n",
       "      <td>...</td>\n",
       "      <td>...</td>\n",
       "      <td>...</td>\n",
       "      <td>...</td>\n",
       "      <td>...</td>\n",
       "      <td>...</td>\n",
       "    </tr>\n",
       "    <tr>\n",
       "      <th>419495</th>\n",
       "      <td>93436</td>\n",
       "      <td>2012-03-30</td>\n",
       "      <td>0.114640</td>\n",
       "      <td>33.41</td>\n",
       "      <td>3494.800</td>\n",
       "      <td>13.73900</td>\n",
       "    </tr>\n",
       "    <tr>\n",
       "      <th>419496</th>\n",
       "      <td>93436</td>\n",
       "      <td>2012-04-30</td>\n",
       "      <td>-0.110370</td>\n",
       "      <td>37.24</td>\n",
       "      <td>3916.300</td>\n",
       "      <td>18.09700</td>\n",
       "    </tr>\n",
       "    <tr>\n",
       "      <th>419497</th>\n",
       "      <td>93436</td>\n",
       "      <td>2012-05-31</td>\n",
       "      <td>-0.109570</td>\n",
       "      <td>33.13</td>\n",
       "      <td>3485.700</td>\n",
       "      <td>13.02700</td>\n",
       "    </tr>\n",
       "    <tr>\n",
       "      <th>419498</th>\n",
       "      <td>93436</td>\n",
       "      <td>2012-06-29</td>\n",
       "      <td>0.060678</td>\n",
       "      <td>29.50</td>\n",
       "      <td>3103.800</td>\n",
       "      <td>10.79800</td>\n",
       "    </tr>\n",
       "    <tr>\n",
       "      <th>419499</th>\n",
       "      <td>93436</td>\n",
       "      <td>2012-07-31</td>\n",
       "      <td>-0.123680</td>\n",
       "      <td>31.29</td>\n",
       "      <td>3295.600</td>\n",
       "      <td>10.87400</td>\n",
       "    </tr>\n",
       "  </tbody>\n",
       "</table>\n",
       "<p>419500 rows × 6 columns</p>\n",
       "</div>"
      ],
      "text/plain": [
       "        permno      caldt       ret  prclag     melag    feelag\n",
       "0        10001 2005-06-30  0.128430    8.02    21.053   0.15000\n",
       "1        10001 2005-07-29  0.009945    9.05    26.363   0.32701\n",
       "2        10001 2005-08-31  0.039387    9.14    26.625   0.15000\n",
       "3        10001 2005-10-31 -0.119040   11.51    33.529   0.16250\n",
       "4        10001 2005-11-30 -0.059397   10.10    29.421   0.15000\n",
       "...        ...        ...       ...     ...       ...       ...\n",
       "419495   93436 2012-03-30  0.114640   33.41  3494.800  13.73900\n",
       "419496   93436 2012-04-30 -0.110370   37.24  3916.300  18.09700\n",
       "419497   93436 2012-05-31 -0.109570   33.13  3485.700  13.02700\n",
       "419498   93436 2012-06-29  0.060678   29.50  3103.800  10.79800\n",
       "419499   93436 2012-07-31 -0.123680   31.29  3295.600  10.87400\n",
       "\n",
       "[419500 rows x 6 columns]"
      ]
     },
     "execution_count": 7,
     "metadata": {},
     "output_type": "execute_result"
    }
   ],
   "source": [
    "df = df.query(\"feelag > -0.000001\").reset_index(drop=True)\n",
    "df"
   ]
  },
  {
   "cell_type": "code",
   "execution_count": 8,
   "id": "0486e40b",
   "metadata": {
    "collapsed": false,
    "jupyter": {
     "outputs_hidden": false
    }
   },
   "outputs": [
    {
     "data": {
      "text/plain": [
       "count    419500.0000\n",
       "mean          1.0307\n",
       "std           3.7643\n",
       "min           0.0000\n",
       "25%           0.0950\n",
       "50%           0.1500\n",
       "75%           0.3618\n",
       "max          98.1800\n",
       "Name: feelag, dtype: float64"
      ]
     },
     "execution_count": 8,
     "metadata": {},
     "output_type": "execute_result"
    }
   ],
   "source": [
    "df['feelag'].describe().round(4)"
   ]
  },
  {
   "cell_type": "markdown",
   "id": "74775b61",
   "metadata": {
    "cell_marker": "\"\"\"",
    "collapsed": false,
    "jupyter": {
     "outputs_hidden": false
    }
   },
   "source": [
    "**Q3.** 90th percentile of `feelag` for every month"
   ]
  },
  {
   "cell_type": "code",
   "execution_count": 9,
   "id": "1d3d9c91",
   "metadata": {
    "collapsed": false,
    "jupyter": {
     "outputs_hidden": false
    }
   },
   "outputs": [
    {
     "data": {
      "text/plain": [
       "caldt          \n",
       "2002-06-28  0.5    0.442105\n",
       "            0.9    1.875000\n",
       "2002-07-31  0.5    0.250000\n",
       "            0.9    1.555370\n",
       "2002-08-30  0.5    0.250000\n",
       "                     ...   \n",
       "2012-05-31  0.9    3.595600\n",
       "2012-06-29  0.5    0.109820\n",
       "            0.9    3.911920\n",
       "2012-07-31  0.5    0.099295\n",
       "            0.9    4.195350\n",
       "Name: feelag, Length: 244, dtype: float64"
      ]
     },
     "execution_count": 9,
     "metadata": {},
     "output_type": "execute_result"
    }
   ],
   "source": [
    "df.groupby('caldt')['feelag'].quantile([0.5,0.9])"
   ]
  },
  {
   "cell_type": "code",
   "execution_count": 10,
   "id": "8b9ebb27",
   "metadata": {
    "collapsed": false,
    "jupyter": {
     "outputs_hidden": false
    }
   },
   "outputs": [
    {
     "data": {
      "text/html": [
       "<div>\n",
       "<style scoped>\n",
       "    .dataframe tbody tr th:only-of-type {\n",
       "        vertical-align: middle;\n",
       "    }\n",
       "\n",
       "    .dataframe tbody tr th {\n",
       "        vertical-align: top;\n",
       "    }\n",
       "\n",
       "    .dataframe thead th {\n",
       "        text-align: right;\n",
       "    }\n",
       "</style>\n",
       "<table border=\"1\" class=\"dataframe\">\n",
       "  <thead>\n",
       "    <tr style=\"text-align: right;\">\n",
       "      <th></th>\n",
       "      <th>0.5</th>\n",
       "      <th>0.9</th>\n",
       "    </tr>\n",
       "    <tr>\n",
       "      <th>caldt</th>\n",
       "      <th></th>\n",
       "      <th></th>\n",
       "    </tr>\n",
       "  </thead>\n",
       "  <tbody>\n",
       "    <tr>\n",
       "      <th>2002-06-28</th>\n",
       "      <td>0.442105</td>\n",
       "      <td>1.87500</td>\n",
       "    </tr>\n",
       "    <tr>\n",
       "      <th>2002-07-31</th>\n",
       "      <td>0.250000</td>\n",
       "      <td>1.55537</td>\n",
       "    </tr>\n",
       "    <tr>\n",
       "      <th>2002-08-30</th>\n",
       "      <td>0.250000</td>\n",
       "      <td>1.62500</td>\n",
       "    </tr>\n",
       "    <tr>\n",
       "      <th>2002-09-30</th>\n",
       "      <td>0.227160</td>\n",
       "      <td>1.75000</td>\n",
       "    </tr>\n",
       "    <tr>\n",
       "      <th>2002-10-31</th>\n",
       "      <td>0.189690</td>\n",
       "      <td>1.39574</td>\n",
       "    </tr>\n",
       "    <tr>\n",
       "      <th>...</th>\n",
       "      <td>...</td>\n",
       "      <td>...</td>\n",
       "    </tr>\n",
       "    <tr>\n",
       "      <th>2012-03-30</th>\n",
       "      <td>0.104045</td>\n",
       "      <td>3.44536</td>\n",
       "    </tr>\n",
       "    <tr>\n",
       "      <th>2012-04-30</th>\n",
       "      <td>0.099750</td>\n",
       "      <td>3.43792</td>\n",
       "    </tr>\n",
       "    <tr>\n",
       "      <th>2012-05-31</th>\n",
       "      <td>0.108170</td>\n",
       "      <td>3.59560</td>\n",
       "    </tr>\n",
       "    <tr>\n",
       "      <th>2012-06-29</th>\n",
       "      <td>0.109820</td>\n",
       "      <td>3.91192</td>\n",
       "    </tr>\n",
       "    <tr>\n",
       "      <th>2012-07-31</th>\n",
       "      <td>0.099295</td>\n",
       "      <td>4.19535</td>\n",
       "    </tr>\n",
       "  </tbody>\n",
       "</table>\n",
       "<p>122 rows × 2 columns</p>\n",
       "</div>"
      ],
      "text/plain": [
       "                 0.5      0.9\n",
       "caldt                        \n",
       "2002-06-28  0.442105  1.87500\n",
       "2002-07-31  0.250000  1.55537\n",
       "2002-08-30  0.250000  1.62500\n",
       "2002-09-30  0.227160  1.75000\n",
       "2002-10-31  0.189690  1.39574\n",
       "...              ...      ...\n",
       "2012-03-30  0.104045  3.44536\n",
       "2012-04-30  0.099750  3.43792\n",
       "2012-05-31  0.108170  3.59560\n",
       "2012-06-29  0.109820  3.91192\n",
       "2012-07-31  0.099295  4.19535\n",
       "\n",
       "[122 rows x 2 columns]"
      ]
     },
     "execution_count": 10,
     "metadata": {},
     "output_type": "execute_result"
    }
   ],
   "source": [
    "df.groupby('caldt')['feelag'].quantile([0.5,0.9]).unstack(level=1)"
   ]
  },
  {
   "cell_type": "code",
   "execution_count": 11,
   "id": "cffbaf8e",
   "metadata": {
    "collapsed": false,
    "jupyter": {
     "outputs_hidden": false
    }
   },
   "outputs": [
    {
     "data": {
      "text/plain": [
       "<Axes: xlabel='caldt'>"
      ]
     },
     "execution_count": 11,
     "metadata": {},
     "output_type": "execute_result"
    },
    {
     "data": {
      "image/png": "[encoded data removed]",
      "text/plain": [
       "<Figure size 640x480 with 1 Axes>"
      ]
     },
     "metadata": {},
     "output_type": "display_data"
    }
   ],
   "source": [
    "df.groupby('caldt')['feelag'].quantile([0.5,0.9]).unstack(level=1)[[0.5,0.9]].plot()"
   ]
  },
  {
   "cell_type": "markdown",
   "id": "bb588559",
   "metadata": {
    "cell_marker": "\"\"\"",
    "collapsed": false,
    "jupyter": {
     "outputs_hidden": false
    }
   },
   "source": [
    "**Q4. Form feelag based portfolios**"
   ]
  },
  {
   "cell_type": "code",
   "execution_count": 12,
   "id": "010fb32c",
   "metadata": {
    "collapsed": false,
    "jupyter": {
     "outputs_hidden": false
    }
   },
   "outputs": [
    {
     "data": {
      "text/html": [
       "<div>\n",
       "<style scoped>\n",
       "    .dataframe tbody tr th:only-of-type {\n",
       "        vertical-align: middle;\n",
       "    }\n",
       "\n",
       "    .dataframe tbody tr th {\n",
       "        vertical-align: top;\n",
       "    }\n",
       "\n",
       "    .dataframe thead th {\n",
       "        text-align: right;\n",
       "    }\n",
       "</style>\n",
       "<table border=\"1\" class=\"dataframe\">\n",
       "  <thead>\n",
       "    <tr style=\"text-align: right;\">\n",
       "      <th></th>\n",
       "      <th>permno</th>\n",
       "      <th>caldt</th>\n",
       "      <th>ret</th>\n",
       "      <th>prclag</th>\n",
       "      <th>melag</th>\n",
       "      <th>feelag</th>\n",
       "      <th>bins</th>\n",
       "    </tr>\n",
       "  </thead>\n",
       "  <tbody>\n",
       "    <tr>\n",
       "      <th>0</th>\n",
       "      <td>10001</td>\n",
       "      <td>2005-06-30</td>\n",
       "      <td>0.128430</td>\n",
       "      <td>8.02</td>\n",
       "      <td>21.053</td>\n",
       "      <td>0.15000</td>\n",
       "      <td>0</td>\n",
       "    </tr>\n",
       "    <tr>\n",
       "      <th>1</th>\n",
       "      <td>10001</td>\n",
       "      <td>2005-07-29</td>\n",
       "      <td>0.009945</td>\n",
       "      <td>9.05</td>\n",
       "      <td>26.363</td>\n",
       "      <td>0.32701</td>\n",
       "      <td>0</td>\n",
       "    </tr>\n",
       "    <tr>\n",
       "      <th>2</th>\n",
       "      <td>10001</td>\n",
       "      <td>2005-08-31</td>\n",
       "      <td>0.039387</td>\n",
       "      <td>9.14</td>\n",
       "      <td>26.625</td>\n",
       "      <td>0.15000</td>\n",
       "      <td>0</td>\n",
       "    </tr>\n",
       "    <tr>\n",
       "      <th>3</th>\n",
       "      <td>10001</td>\n",
       "      <td>2005-10-31</td>\n",
       "      <td>-0.119040</td>\n",
       "      <td>11.51</td>\n",
       "      <td>33.529</td>\n",
       "      <td>0.16250</td>\n",
       "      <td>0</td>\n",
       "    </tr>\n",
       "    <tr>\n",
       "      <th>4</th>\n",
       "      <td>10001</td>\n",
       "      <td>2005-11-30</td>\n",
       "      <td>-0.059397</td>\n",
       "      <td>10.10</td>\n",
       "      <td>29.421</td>\n",
       "      <td>0.15000</td>\n",
       "      <td>0</td>\n",
       "    </tr>\n",
       "    <tr>\n",
       "      <th>...</th>\n",
       "      <td>...</td>\n",
       "      <td>...</td>\n",
       "      <td>...</td>\n",
       "      <td>...</td>\n",
       "      <td>...</td>\n",
       "      <td>...</td>\n",
       "      <td>...</td>\n",
       "    </tr>\n",
       "    <tr>\n",
       "      <th>419495</th>\n",
       "      <td>93436</td>\n",
       "      <td>2012-03-30</td>\n",
       "      <td>0.114640</td>\n",
       "      <td>33.41</td>\n",
       "      <td>3494.800</td>\n",
       "      <td>13.73900</td>\n",
       "      <td>2</td>\n",
       "    </tr>\n",
       "    <tr>\n",
       "      <th>419496</th>\n",
       "      <td>93436</td>\n",
       "      <td>2012-04-30</td>\n",
       "      <td>-0.110370</td>\n",
       "      <td>37.24</td>\n",
       "      <td>3916.300</td>\n",
       "      <td>18.09700</td>\n",
       "      <td>2</td>\n",
       "    </tr>\n",
       "    <tr>\n",
       "      <th>419497</th>\n",
       "      <td>93436</td>\n",
       "      <td>2012-05-31</td>\n",
       "      <td>-0.109570</td>\n",
       "      <td>33.13</td>\n",
       "      <td>3485.700</td>\n",
       "      <td>13.02700</td>\n",
       "      <td>2</td>\n",
       "    </tr>\n",
       "    <tr>\n",
       "      <th>419498</th>\n",
       "      <td>93436</td>\n",
       "      <td>2012-06-29</td>\n",
       "      <td>0.060678</td>\n",
       "      <td>29.50</td>\n",
       "      <td>3103.800</td>\n",
       "      <td>10.79800</td>\n",
       "      <td>2</td>\n",
       "    </tr>\n",
       "    <tr>\n",
       "      <th>419499</th>\n",
       "      <td>93436</td>\n",
       "      <td>2012-07-31</td>\n",
       "      <td>-0.123680</td>\n",
       "      <td>31.29</td>\n",
       "      <td>3295.600</td>\n",
       "      <td>10.87400</td>\n",
       "      <td>2</td>\n",
       "    </tr>\n",
       "  </tbody>\n",
       "</table>\n",
       "<p>419500 rows × 7 columns</p>\n",
       "</div>"
      ],
      "text/plain": [
       "        permno      caldt       ret  prclag     melag    feelag  bins\n",
       "0        10001 2005-06-30  0.128430    8.02    21.053   0.15000     0\n",
       "1        10001 2005-07-29  0.009945    9.05    26.363   0.32701     0\n",
       "2        10001 2005-08-31  0.039387    9.14    26.625   0.15000     0\n",
       "3        10001 2005-10-31 -0.119040   11.51    33.529   0.16250     0\n",
       "4        10001 2005-11-30 -0.059397   10.10    29.421   0.15000     0\n",
       "...        ...        ...       ...     ...       ...       ...   ...\n",
       "419495   93436 2012-03-30  0.114640   33.41  3494.800  13.73900     2\n",
       "419496   93436 2012-04-30 -0.110370   37.24  3916.300  18.09700     2\n",
       "419497   93436 2012-05-31 -0.109570   33.13  3485.700  13.02700     2\n",
       "419498   93436 2012-06-29  0.060678   29.50  3103.800  10.79800     2\n",
       "419499   93436 2012-07-31 -0.123680   31.29  3295.600  10.87400     2\n",
       "\n",
       "[419500 rows x 7 columns]"
      ]
     },
     "execution_count": 12,
     "metadata": {},
     "output_type": "execute_result"
    }
   ],
   "source": [
    "df['bins'] = pd.cut(df['feelag'],[-0.01,3,5,100],labels=False)\n",
    "df"
   ]
  },
  {
   "cell_type": "code",
   "execution_count": 13,
   "id": "0aa62f73",
   "metadata": {
    "collapsed": false,
    "jupyter": {
     "outputs_hidden": false
    }
   },
   "outputs": [
    {
     "data": {
      "text/html": [
       "<div>\n",
       "<style scoped>\n",
       "    .dataframe tbody tr th:only-of-type {\n",
       "        vertical-align: middle;\n",
       "    }\n",
       "\n",
       "    .dataframe tbody tr th {\n",
       "        vertical-align: top;\n",
       "    }\n",
       "\n",
       "    .dataframe thead th {\n",
       "        text-align: right;\n",
       "    }\n",
       "</style>\n",
       "<table border=\"1\" class=\"dataframe\">\n",
       "  <thead>\n",
       "    <tr style=\"text-align: right;\">\n",
       "      <th>bins</th>\n",
       "      <th>0</th>\n",
       "      <th>1</th>\n",
       "      <th>2</th>\n",
       "    </tr>\n",
       "    <tr>\n",
       "      <th>caldt</th>\n",
       "      <th></th>\n",
       "      <th></th>\n",
       "      <th></th>\n",
       "    </tr>\n",
       "  </thead>\n",
       "  <tbody>\n",
       "    <tr>\n",
       "      <th>2002-06-28</th>\n",
       "      <td>-10.588252</td>\n",
       "      <td>-18.555083</td>\n",
       "      <td>-6.139767</td>\n",
       "    </tr>\n",
       "    <tr>\n",
       "      <th>2002-07-31</th>\n",
       "      <td>-13.163341</td>\n",
       "      <td>-17.002857</td>\n",
       "      <td>11.725500</td>\n",
       "    </tr>\n",
       "    <tr>\n",
       "      <th>2002-08-30</th>\n",
       "      <td>-0.296823</td>\n",
       "      <td>10.760344</td>\n",
       "      <td>6.400025</td>\n",
       "    </tr>\n",
       "    <tr>\n",
       "      <th>2002-09-30</th>\n",
       "      <td>-11.961998</td>\n",
       "      <td>-15.422047</td>\n",
       "      <td>-10.107712</td>\n",
       "    </tr>\n",
       "    <tr>\n",
       "      <th>2002-10-31</th>\n",
       "      <td>8.527226</td>\n",
       "      <td>14.396513</td>\n",
       "      <td>14.005900</td>\n",
       "    </tr>\n",
       "    <tr>\n",
       "      <th>...</th>\n",
       "      <td>...</td>\n",
       "      <td>...</td>\n",
       "      <td>...</td>\n",
       "    </tr>\n",
       "    <tr>\n",
       "      <th>2012-03-30</th>\n",
       "      <td>3.531022</td>\n",
       "      <td>1.066061</td>\n",
       "      <td>1.285109</td>\n",
       "    </tr>\n",
       "    <tr>\n",
       "      <th>2012-04-30</th>\n",
       "      <td>-1.138087</td>\n",
       "      <td>-0.445283</td>\n",
       "      <td>-3.732664</td>\n",
       "    </tr>\n",
       "    <tr>\n",
       "      <th>2012-05-31</th>\n",
       "      <td>-6.634287</td>\n",
       "      <td>-8.444243</td>\n",
       "      <td>-12.695642</td>\n",
       "    </tr>\n",
       "    <tr>\n",
       "      <th>2012-06-29</th>\n",
       "      <td>4.208552</td>\n",
       "      <td>1.057108</td>\n",
       "      <td>2.072193</td>\n",
       "    </tr>\n",
       "    <tr>\n",
       "      <th>2012-07-31</th>\n",
       "      <td>-0.804421</td>\n",
       "      <td>0.501237</td>\n",
       "      <td>-3.750259</td>\n",
       "    </tr>\n",
       "  </tbody>\n",
       "</table>\n",
       "<p>122 rows × 3 columns</p>\n",
       "</div>"
      ],
      "text/plain": [
       "bins                0          1          2\n",
       "caldt                                      \n",
       "2002-06-28 -10.588252 -18.555083  -6.139767\n",
       "2002-07-31 -13.163341 -17.002857  11.725500\n",
       "2002-08-30  -0.296823  10.760344   6.400025\n",
       "2002-09-30 -11.961998 -15.422047 -10.107712\n",
       "2002-10-31   8.527226  14.396513  14.005900\n",
       "...               ...        ...        ...\n",
       "2012-03-30   3.531022   1.066061   1.285109\n",
       "2012-04-30  -1.138087  -0.445283  -3.732664\n",
       "2012-05-31  -6.634287  -8.444243 -12.695642\n",
       "2012-06-29   4.208552   1.057108   2.072193\n",
       "2012-07-31  -0.804421   0.501237  -3.750259\n",
       "\n",
       "[122 rows x 3 columns]"
      ]
     },
     "execution_count": 13,
     "metadata": {},
     "output_type": "execute_result"
    }
   ],
   "source": [
    "port = df.groupby(['caldt','bins'])['ret'].mean()*100\n",
    "port = port.unstack(level='bins')\n",
    "port"
   ]
  },
  {
   "cell_type": "markdown",
   "id": "e78d9f30",
   "metadata": {
    "cell_marker": "\"\"\"",
    "collapsed": false,
    "jupyter": {
     "outputs_hidden": false
    }
   },
   "source": [
    "**Q5. Portfolio Summary Statistics**"
   ]
  },
  {
   "cell_type": "code",
   "execution_count": 14,
   "id": "64e1ff26",
   "metadata": {
    "collapsed": false,
    "jupyter": {
     "outputs_hidden": false
    }
   },
   "outputs": [
    {
     "data": {
      "text/html": [
       "<div>\n",
       "<style scoped>\n",
       "    .dataframe tbody tr th:only-of-type {\n",
       "        vertical-align: middle;\n",
       "    }\n",
       "\n",
       "    .dataframe tbody tr th {\n",
       "        vertical-align: top;\n",
       "    }\n",
       "\n",
       "    .dataframe thead th {\n",
       "        text-align: right;\n",
       "    }\n",
       "</style>\n",
       "<table border=\"1\" class=\"dataframe\">\n",
       "  <thead>\n",
       "    <tr style=\"text-align: right;\">\n",
       "      <th>bins</th>\n",
       "      <th>0</th>\n",
       "      <th>1</th>\n",
       "      <th>2</th>\n",
       "    </tr>\n",
       "  </thead>\n",
       "  <tbody>\n",
       "    <tr>\n",
       "      <th>count</th>\n",
       "      <td>122.000</td>\n",
       "      <td>122.000</td>\n",
       "      <td>122.000</td>\n",
       "    </tr>\n",
       "    <tr>\n",
       "      <th>mean</th>\n",
       "      <td>0.973</td>\n",
       "      <td>-0.128</td>\n",
       "      <td>-0.766</td>\n",
       "    </tr>\n",
       "    <tr>\n",
       "      <th>std</th>\n",
       "      <td>6.547</td>\n",
       "      <td>9.464</td>\n",
       "      <td>9.395</td>\n",
       "    </tr>\n",
       "    <tr>\n",
       "      <th>min</th>\n",
       "      <td>-21.638</td>\n",
       "      <td>-22.926</td>\n",
       "      <td>-22.174</td>\n",
       "    </tr>\n",
       "    <tr>\n",
       "      <th>25%</th>\n",
       "      <td>-2.316</td>\n",
       "      <td>-5.606</td>\n",
       "      <td>-6.164</td>\n",
       "    </tr>\n",
       "    <tr>\n",
       "      <th>50%</th>\n",
       "      <td>1.502</td>\n",
       "      <td>-0.276</td>\n",
       "      <td>-0.811</td>\n",
       "    </tr>\n",
       "    <tr>\n",
       "      <th>75%</th>\n",
       "      <td>4.291</td>\n",
       "      <td>3.886</td>\n",
       "      <td>3.622</td>\n",
       "    </tr>\n",
       "    <tr>\n",
       "      <th>max</th>\n",
       "      <td>22.716</td>\n",
       "      <td>33.765</td>\n",
       "      <td>26.526</td>\n",
       "    </tr>\n",
       "  </tbody>\n",
       "</table>\n",
       "</div>"
      ],
      "text/plain": [
       "bins         0        1        2\n",
       "count  122.000  122.000  122.000\n",
       "mean     0.973   -0.128   -0.766\n",
       "std      6.547    9.464    9.395\n",
       "min    -21.638  -22.926  -22.174\n",
       "25%     -2.316   -5.606   -6.164\n",
       "50%      1.502   -0.276   -0.811\n",
       "75%      4.291    3.886    3.622\n",
       "max     22.716   33.765   26.526"
      ]
     },
     "execution_count": 14,
     "metadata": {},
     "output_type": "execute_result"
    }
   ],
   "source": [
    "port.describe().round(3)"
   ]
  },
  {
   "cell_type": "code",
   "execution_count": 15,
   "id": "f3734919",
   "metadata": {
    "collapsed": false,
    "jupyter": {
     "outputs_hidden": false
    }
   },
   "outputs": [
    {
     "data": {
      "text/html": [
       "<div>\n",
       "<style scoped>\n",
       "    .dataframe tbody tr th:only-of-type {\n",
       "        vertical-align: middle;\n",
       "    }\n",
       "\n",
       "    .dataframe tbody tr th {\n",
       "        vertical-align: top;\n",
       "    }\n",
       "\n",
       "    .dataframe thead th {\n",
       "        text-align: right;\n",
       "    }\n",
       "</style>\n",
       "<table border=\"1\" class=\"dataframe\">\n",
       "  <thead>\n",
       "    <tr style=\"text-align: right;\">\n",
       "      <th>bins</th>\n",
       "      <th>0</th>\n",
       "      <th>1</th>\n",
       "      <th>2</th>\n",
       "    </tr>\n",
       "  </thead>\n",
       "  <tbody>\n",
       "    <tr>\n",
       "      <th>count</th>\n",
       "      <td>122.000</td>\n",
       "      <td>122.000</td>\n",
       "      <td>122.000</td>\n",
       "    </tr>\n",
       "    <tr>\n",
       "      <th>mean</th>\n",
       "      <td>0.973</td>\n",
       "      <td>-0.128</td>\n",
       "      <td>-0.766</td>\n",
       "    </tr>\n",
       "    <tr>\n",
       "      <th>std</th>\n",
       "      <td>6.547</td>\n",
       "      <td>9.464</td>\n",
       "      <td>9.395</td>\n",
       "    </tr>\n",
       "    <tr>\n",
       "      <th>tstat</th>\n",
       "      <td>1.642</td>\n",
       "      <td>-0.150</td>\n",
       "      <td>-0.900</td>\n",
       "    </tr>\n",
       "    <tr>\n",
       "      <th>pval</th>\n",
       "      <td>0.103</td>\n",
       "      <td>0.881</td>\n",
       "      <td>0.370</td>\n",
       "    </tr>\n",
       "    <tr>\n",
       "      <th>min</th>\n",
       "      <td>-21.638</td>\n",
       "      <td>-22.926</td>\n",
       "      <td>-22.174</td>\n",
       "    </tr>\n",
       "    <tr>\n",
       "      <th>25%</th>\n",
       "      <td>-2.316</td>\n",
       "      <td>-5.606</td>\n",
       "      <td>-6.164</td>\n",
       "    </tr>\n",
       "    <tr>\n",
       "      <th>50%</th>\n",
       "      <td>1.502</td>\n",
       "      <td>-0.276</td>\n",
       "      <td>-0.811</td>\n",
       "    </tr>\n",
       "    <tr>\n",
       "      <th>75%</th>\n",
       "      <td>4.291</td>\n",
       "      <td>3.886</td>\n",
       "      <td>3.622</td>\n",
       "    </tr>\n",
       "    <tr>\n",
       "      <th>max</th>\n",
       "      <td>22.716</td>\n",
       "      <td>33.765</td>\n",
       "      <td>26.526</td>\n",
       "    </tr>\n",
       "  </tbody>\n",
       "</table>\n",
       "</div>"
      ],
      "text/plain": [
       "bins         0        1        2\n",
       "count  122.000  122.000  122.000\n",
       "mean     0.973   -0.128   -0.766\n",
       "std      6.547    9.464    9.395\n",
       "tstat    1.642   -0.150   -0.900\n",
       "pval     0.103    0.881    0.370\n",
       "min    -21.638  -22.926  -22.174\n",
       "25%     -2.316   -5.606   -6.164\n",
       "50%      1.502   -0.276   -0.811\n",
       "75%      4.291    3.886    3.622\n",
       "max     22.716   33.765   26.526"
      ]
     },
     "execution_count": 15,
     "metadata": {},
     "output_type": "execute_result"
    }
   ],
   "source": [
    "from finance_byu.summarize import summary\n",
    "summary(port).round(3)"
   ]
  },
  {
   "cell_type": "code",
   "execution_count": 16,
   "id": "b59c02b6",
   "metadata": {
    "collapsed": false,
    "jupyter": {
     "outputs_hidden": false
    }
   },
   "outputs": [
    {
     "data": {
      "text/html": [
       "<div>\n",
       "<style scoped>\n",
       "    .dataframe tbody tr th:only-of-type {\n",
       "        vertical-align: middle;\n",
       "    }\n",
       "\n",
       "    .dataframe tbody tr th {\n",
       "        vertical-align: top;\n",
       "    }\n",
       "\n",
       "    .dataframe thead th {\n",
       "        text-align: right;\n",
       "    }\n",
       "</style>\n",
       "<table border=\"1\" class=\"dataframe\">\n",
       "  <thead>\n",
       "    <tr style=\"text-align: right;\">\n",
       "      <th>bins</th>\n",
       "      <th>0</th>\n",
       "      <th>1</th>\n",
       "      <th>2</th>\n",
       "    </tr>\n",
       "  </thead>\n",
       "  <tbody>\n",
       "    <tr>\n",
       "      <th>count</th>\n",
       "      <td>122.000</td>\n",
       "      <td>122.000</td>\n",
       "      <td>122.000</td>\n",
       "    </tr>\n",
       "    <tr>\n",
       "      <th>mean</th>\n",
       "      <td>0.973</td>\n",
       "      <td>-0.128</td>\n",
       "      <td>-0.766</td>\n",
       "    </tr>\n",
       "    <tr>\n",
       "      <th>std</th>\n",
       "      <td>6.547</td>\n",
       "      <td>9.464</td>\n",
       "      <td>9.395</td>\n",
       "    </tr>\n",
       "    <tr>\n",
       "      <th>tstat</th>\n",
       "      <td>1.642</td>\n",
       "      <td>-0.150</td>\n",
       "      <td>-0.900</td>\n",
       "    </tr>\n",
       "  </tbody>\n",
       "</table>\n",
       "</div>"
      ],
      "text/plain": [
       "bins         0        1        2\n",
       "count  122.000  122.000  122.000\n",
       "mean     0.973   -0.128   -0.766\n",
       "std      6.547    9.464    9.395\n",
       "tstat    1.642   -0.150   -0.900"
      ]
     },
     "execution_count": 16,
     "metadata": {},
     "output_type": "execute_result"
    }
   ],
   "source": [
    "from finance_byu.summarize import summary\n",
    "summary(port).loc[['count','mean','std','tstat']].round(3)"
   ]
  },
  {
   "cell_type": "markdown",
   "id": "a1619b5b",
   "metadata": {
    "cell_marker": "\"\"\"",
    "collapsed": false,
    "jupyter": {
     "outputs_hidden": false
    }
   },
   "source": [
    "**Q6. Do short sellers have good information?**\n",
    "\n",
    "Are short sellers acting on good information that predicts declines in security prices? If so, securities with high short selling demand should have low next period returns. Right now (given what we've covered so far), we can't really tell. We haven't talked or modeled what the expected return on stocks should be and why (risk, the answer is risk). We can tell that the high lagged loan fee has the lowest average return; that's certainly consistent with the hypothesis. But that average isn't significant below zero (t-stat = -0.91). Remember, these are normal (long/buy) portfolios. The `high` portfolio is constructed as if the investor bought it. A negative average return means the high short costs predict low future average returns which is consistent with short-sellers picking stocks that go down on average\n",
    "\n",
    "However, we can sharpen up our testing by thinking of a simple strategy where where we short 1000 dollars worth of portfolio `high` and then use the proceeds to invest 1000 dollars in portfolio `low`. This is called a pairs trade, and the return on the new portfolio is the following:\n",
    "$$\n",
    "r_{spread} = r_{low} - r_{high}\n",
    "$$"
   ]
  },
  {
   "cell_type": "code",
   "execution_count": 17,
   "id": "00cb0478",
   "metadata": {
    "collapsed": false,
    "jupyter": {
     "outputs_hidden": false
    },
    "lines_to_next_cell": 2
   },
   "outputs": [
    {
     "data": {
      "text/html": [
       "<div>\n",
       "<style scoped>\n",
       "    .dataframe tbody tr th:only-of-type {\n",
       "        vertical-align: middle;\n",
       "    }\n",
       "\n",
       "    .dataframe tbody tr th {\n",
       "        vertical-align: top;\n",
       "    }\n",
       "\n",
       "    .dataframe thead th {\n",
       "        text-align: right;\n",
       "    }\n",
       "</style>\n",
       "<table border=\"1\" class=\"dataframe\">\n",
       "  <thead>\n",
       "    <tr style=\"text-align: right;\">\n",
       "      <th>bins</th>\n",
       "      <th>0</th>\n",
       "      <th>1</th>\n",
       "      <th>2</th>\n",
       "      <th>spread</th>\n",
       "    </tr>\n",
       "  </thead>\n",
       "  <tbody>\n",
       "    <tr>\n",
       "      <th>count</th>\n",
       "      <td>122.000</td>\n",
       "      <td>122.000</td>\n",
       "      <td>122.000</td>\n",
       "      <td>122.000</td>\n",
       "    </tr>\n",
       "    <tr>\n",
       "      <th>mean</th>\n",
       "      <td>0.973</td>\n",
       "      <td>-0.128</td>\n",
       "      <td>-0.766</td>\n",
       "      <td>1.739</td>\n",
       "    </tr>\n",
       "    <tr>\n",
       "      <th>std</th>\n",
       "      <td>6.547</td>\n",
       "      <td>9.464</td>\n",
       "      <td>9.395</td>\n",
       "      <td>5.393</td>\n",
       "    </tr>\n",
       "    <tr>\n",
       "      <th>tstat</th>\n",
       "      <td>1.642</td>\n",
       "      <td>-0.150</td>\n",
       "      <td>-0.900</td>\n",
       "      <td>3.561</td>\n",
       "    </tr>\n",
       "    <tr>\n",
       "      <th>pval</th>\n",
       "      <td>0.103</td>\n",
       "      <td>0.881</td>\n",
       "      <td>0.370</td>\n",
       "      <td>0.001</td>\n",
       "    </tr>\n",
       "  </tbody>\n",
       "</table>\n",
       "</div>"
      ],
      "text/plain": [
       "bins         0        1        2   spread\n",
       "count  122.000  122.000  122.000  122.000\n",
       "mean     0.973   -0.128   -0.766    1.739\n",
       "std      6.547    9.464    9.395    5.393\n",
       "tstat    1.642   -0.150   -0.900    3.561\n",
       "pval     0.103    0.881    0.370    0.001"
      ]
     },
     "execution_count": 17,
     "metadata": {},
     "output_type": "execute_result"
    }
   ],
   "source": [
    "port['spread'] = port[0] - port[2]\n",
    "summary(port).loc[['count','mean','std','tstat','pval']].round(3)"
   ]
  }
 ],
 "metadata": {
  "jupytext": {
   "cell_markers": "\"\"\""
  },
  "kernelspec": {
   "display_name": "Python 3 (ipykernel)",
   "language": "python",
   "name": "python3"
  },
  "language_info": {
   "codemirror_mode": {
    "name": "ipython",
    "version": 3
   },
   "file_extension": ".py",
   "mimetype": "text/x-python",
   "name": "python",
   "nbconvert_exporter": "python",
   "pygments_lexer": "ipython3",
   "version": "3.12.8"
  }
 },
 "nbformat": 4,
 "nbformat_minor": 5
}
