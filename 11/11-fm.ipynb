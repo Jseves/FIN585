{
 "cells": [
  {
   "cell_type": "markdown",
   "id": "8ddcda95-61a6-4ca9-a0bd-5fef334d7c42",
   "metadata": {
    "collapsed": false
   },
   "source": [
    "**Fin 585**  \n",
    "**Diether**  \n",
    "**Problem Set**  \n",
    "**Cross-Sectional Tests of the CAPM**  \n",
    "\n",
    "**Overview**  \n",
    "\n",
    "In this problem set you test the CAPM using a cross-sectional framework. Specifically, you test whether the CAPM holds using the Fama-MacBeth (1973) methodology. Before proceeding you need the datafile for this assignment. It's on Learning Suite ('mstk_fm_29-63.csv') or you can download it directly via this link: [Month Stock file: 29-63](http://diether.org/prephd/11-mstk_fm_29-63.csv). The data are a panel with returns from February 1929 to June of 1963 for all stocks common stocks on CRSP during the period:\n",
    "\n",
    "| Variable | Description                                                               |\n",
    "|----------|---------------------------------------------------------------------------|\n",
    "| permno   | stock identifier                                                          |\n",
    "| caldt    | the calendar month                                                        |\n",
    "| ret      | return (from the close of the end of month t − 1 to the close of month t) |\n",
    "| beta     | the estimated beta, estimated using data from months t − 60 to t − 1      |\n",
    "| melag    | market-cap lagged one month                                               |\n",
    "| bmlag    | book to market equity lagged as in Fama-French (1992)                     |\n",
    "\n",
    "Essentially, your overall task for this homework is an out of sample test of Fama and French (1992).\n",
    "\n",
    "For questions that require some write-up, create a markdown cell (use the Cell Toolbar)  and write your answer in the markdown cell (this cell is a markdown cell and here is a [markdown cheat sheet](https://github.com/adam-p/markdown-here/wiki/Markdown-Cheatsheet)). <br><br>\n",
    "\n",
    "\n",
    "**Tasks and Questions**  \n",
    "\n",
    "1. I want you to test the CAPM by estimating Fama-MacBeth regressions of the following form: \n",
    "\\begin{align*}\n",
    "r_{it} &= \\gamma_{0t} + \\gamma_{1t}\\hat{\\beta}_{it} + \\gamma_{2t}log(ME_{i,t-1})\n",
    "                      + \\gamma_{3t}log([\\tfrac{B}{M}]_{i,t-1}) + \\nu_{it}\n",
    "\\end{align*}\n",
    "Explain how estimating these Fama-MacBeth regressions is a test of the CAPM. `Pandas` does *not* have a built in Fama-MacBeth function. However, the Fin 585 Library does have a Fama MacBeth regression function: [Fama MacBeth Docs](https://fin-library.readthedocs.io/en/latest/fama_macbeth.html). Use it to estimate the regression above.\n",
    "\n",
    "2. Based on your results in question (2), can you reject the CAPM? Explain. \n",
    "\n",
    "3. This time I want you to estimate Fama-MacBeth regressions of the following form: \n",
    "\\begin{align*}\n",
    "r_{it} = \\gamma_{0t} + \\gamma_{1t}\\hat{\\beta}_{it} + \\nu_{it}\n",
    "\\end{align*}\n",
    "Report the results of your Fama-MacBeth regressions in a table (it should include standard errors and t-statistics).\n",
    "\n",
    "4. Based on your results in question (4), can you reject the CAPM? Explain. Is it even possible to ever reject the CAPM with a regression specification like the one you used in question (4)?"
   ]
  },
  {
   "cell_type": "code",
   "execution_count": null,
   "id": "d6a37ec2-3a53-4283-a99d-8f0f3d56efbf",
   "metadata": {
    "collapsed": false
   },
   "outputs": [],
   "source": [
    "import pandas as pd\n",
    "import numpy as np\n",
    "import statsmodels.formula.api as smf"
   ]
  },
  {
   "cell_type": "code",
   "execution_count": null,
   "id": "abcb99c8-f60c-4dca-8ef5-4214596fdf56",
   "metadata": {
    "collapsed": false
   },
   "outputs": [],
   "source": [
    "df = pd.read_csv('11-mstk_fm_29-63.csv',parse_dates=['caldt'])\n",
    "df.head()"
   ]
  }
 ],
 "metadata": {
  "anaconda-cloud": null,
  "kernelspec": {
   "display_name": "finvenv",
   "language": "python",
   "name": "python3"
  },
  "language_info": {
   "codemirror_mode": {
    "name": "ipython",
    "version": 3
   },
   "file_extension": ".py",
   "mimetype": "text/x-python",
   "name": "python",
   "nbconvert_exporter": "python",
   "pygments_lexer": "ipython3",
   "version": "3.10.12"
  },
  "name": "fm.ipynb"
 },
 "nbformat": 4,
 "nbformat_minor": 1
}
